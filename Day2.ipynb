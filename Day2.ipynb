{
 "cells": [
  {
   "cell_type": "code",
   "execution_count": 1,
   "id": "e44a0930",
   "metadata": {},
   "outputs": [],
   "source": [
    "import requests\n",
    "from bs4 import BeautifulSoup\n",
    "from IPython.display import display, Markdown"
   ]
  },
  {
   "cell_type": "code",
   "execution_count": 2,
   "id": "3df788d4",
   "metadata": {},
   "outputs": [],
   "source": [
    "OLLAMA_API = \"http://localhost:11434/api/chat\"\n",
    "HEADERS = {\"Content-Type\": \"application/json\"}\n",
    "MODEL = \"llama3.2\""
   ]
  },
  {
   "cell_type": "code",
   "execution_count": null,
   "id": "04ae1856",
   "metadata": {},
   "outputs": [],
   "source": [
    "messages = [\n",
    "    {\"role\": \"user\", \"content\": \"Describe some of the business applications of Generative AI\"}\n",
    "]"
   ]
  },
  {
   "cell_type": "code",
   "execution_count": 4,
   "id": "0d364da9",
   "metadata": {},
   "outputs": [],
   "source": [
    "payload = {\n",
    "    \"model\": MODEL,\n",
    "    \"messages\": messages,\n",
    "    \"stream\": False\n",
    "}"
   ]
  },
  {
   "cell_type": "code",
   "execution_count": 6,
   "id": "73aa9670",
   "metadata": {},
   "outputs": [
    {
     "name": "stdout",
     "output_type": "stream",
     "text": [
      "Generative AI has numerous business applications across various industries, including:\n",
      "\n",
      "1. **Content Creation**: Generative AI can be used to create high-quality content such as images, videos, music, and text. This can be particularly useful for businesses that need to produce a large volume of content, but may not have the resources or expertise to do so in-house.\n",
      "2. **Product Design and Development**: Generative AI can be used to design and develop new products, such as furniture, electronics, and medical devices. This can help companies reduce the time and cost associated with traditional product development processes.\n",
      "3. **Marketing and Advertising**: Generative AI can be used to create personalized marketing materials, such as social media posts, ads, and emails. It can also be used to generate customer personas, predict consumer behavior, and optimize ad targeting.\n",
      "4. **Customer Service and Support**: Generative AI-powered chatbots can be used to provide 24/7 customer support, answering common questions and routing complex issues to human representatives.\n",
      "5. **Data Analysis and Insights**: Generative AI can be used to analyze large datasets, identify patterns, and generate insights that may not have been apparent through traditional analysis methods.\n",
      "6. **Language Translation**: Generative AI-powered translation tools can help businesses communicate with customers in different languages, expanding their global reach.\n",
      "7. **Creative Writing and Editing**: Generative AI can be used to assist writers with content creation, research, and editing tasks, freeing up human writers to focus on higher-level creative work.\n",
      "8. **Music Composition and Sound Design**: Generative AI can be used to create original music and sound effects for films, video games, and other media productions.\n",
      "9. **Fashion and Apparel**: Generative AI can be used to design new fashion items, such as clothing and accessories, reducing the time and cost associated with traditional design processes.\n",
      "10. **Facial Recognition and Biometric Analysis**: Generative AI-powered facial recognition systems can help businesses verify identities, detect emotions, and analyze human behavior.\n",
      "\n",
      "Some specific business applications of Generative AI include:\n",
      "\n",
      "* IBM's \"Watson\" platform uses Generative AI to provide insights on customer sentiment and preferences.\n",
      "* Google's \"Artificial Intelligence\" (AI) platform uses Generative AI to generate personalized content for users.\n",
      "* Amazon's \"Alexa\" virtual assistant uses Generative AI to understand voice commands and respond accordingly.\n",
      "* Microsoft's \"Lumina\" AI-powered chatbot uses Generative AI to provide customer support and answer common questions.\n",
      "\n",
      "These are just a few examples of the many business applications of Generative AI. As the technology continues to evolve, we can expect to see even more innovative uses across various industries.\n"
     ]
    }
   ],
   "source": [
    "response = requests.post(OLLAMA_API, json=payload, headers=HEADERS)\n",
    "print(response.json()['message']['content'])"
   ]
  },
  {
   "cell_type": "code",
   "execution_count": 8,
   "id": "41dd77d4",
   "metadata": {},
   "outputs": [
    {
     "name": "stdout",
     "output_type": "stream",
     "text": [
      "Collecting ollama\n",
      "  Downloading ollama-0.5.4-py3-none-any.whl (13 kB)\n",
      "Requirement already satisfied: pydantic>=2.9 in c:\\users\\baoba\\appdata\\local\\programs\\python\\python310\\lib\\site-packages (from ollama) (2.11.7)\n",
      "Requirement already satisfied: httpx>=0.27 in c:\\users\\baoba\\appdata\\local\\programs\\python\\python310\\lib\\site-packages (from ollama) (0.28.1)\n",
      "Requirement already satisfied: anyio in c:\\users\\baoba\\appdata\\local\\programs\\python\\python310\\lib\\site-packages (from httpx>=0.27->ollama) (4.10.0)\n",
      "Requirement already satisfied: certifi in c:\\users\\baoba\\appdata\\local\\programs\\python\\python310\\lib\\site-packages (from httpx>=0.27->ollama) (2025.8.3)\n",
      "Requirement already satisfied: idna in c:\\users\\baoba\\appdata\\local\\programs\\python\\python310\\lib\\site-packages (from httpx>=0.27->ollama) (3.10)\n",
      "Requirement already satisfied: httpcore==1.* in c:\\users\\baoba\\appdata\\local\\programs\\python\\python310\\lib\\site-packages (from httpx>=0.27->ollama) (1.0.9)\n",
      "Requirement already satisfied: h11>=0.16 in c:\\users\\baoba\\appdata\\local\\programs\\python\\python310\\lib\\site-packages (from httpcore==1.*->httpx>=0.27->ollama) (0.16.0)\n",
      "Requirement already satisfied: annotated-types>=0.6.0 in c:\\users\\baoba\\appdata\\local\\programs\\python\\python310\\lib\\site-packages (from pydantic>=2.9->ollama) (0.7.0)\n",
      "Requirement already satisfied: pydantic-core==2.33.2 in c:\\users\\baoba\\appdata\\local\\programs\\python\\python310\\lib\\site-packages (from pydantic>=2.9->ollama) (2.33.2)\n",
      "Requirement already satisfied: typing-extensions>=4.12.2 in c:\\users\\baoba\\appdata\\roaming\\python\\python310\\site-packages (from pydantic>=2.9->ollama) (4.15.0)\n",
      "Requirement already satisfied: typing-inspection>=0.4.0 in c:\\users\\baoba\\appdata\\local\\programs\\python\\python310\\lib\\site-packages (from pydantic>=2.9->ollama) (0.4.1)\n",
      "Requirement already satisfied: sniffio>=1.1 in c:\\users\\baoba\\appdata\\local\\programs\\python\\python310\\lib\\site-packages (from anyio->httpx>=0.27->ollama) (1.3.1)\n",
      "Requirement already satisfied: exceptiongroup>=1.0.2 in c:\\users\\baoba\\appdata\\roaming\\python\\python310\\site-packages (from anyio->httpx>=0.27->ollama) (1.3.0)\n",
      "Installing collected packages: ollama\n",
      "Successfully installed ollama-0.5.4\n",
      "Note: you may need to restart the kernel to use updated packages.\n"
     ]
    },
    {
     "name": "stderr",
     "output_type": "stream",
     "text": [
      "\n",
      "[notice] A new release of pip available: 22.3.1 -> 25.2\n",
      "[notice] To update, run: python.exe -m pip install --upgrade pip\n"
     ]
    }
   ],
   "source": [
    "%pip install ollama"
   ]
  },
  {
   "cell_type": "code",
   "execution_count": 9,
   "id": "57c53a6e",
   "metadata": {},
   "outputs": [
    {
     "name": "stdout",
     "output_type": "stream",
     "text": [
      "Generative AI has numerous business applications across various industries. Here are some examples:\n",
      "\n",
      "1. **Content Generation**: Companies can use generative AI to create high-quality content, such as articles, blog posts, social media posts, and product descriptions, at scale and cost-effectively.\n",
      "2. **Image and Video Creation**: Generative AI can be used to generate images and videos for advertising, marketing, and product visualizations, reducing the need for expensive photography or animation services.\n",
      "3. **Product Design**: Generative AI can aid in designing new products, such as clothing, furniture, or electronics, by generating multiple designs quickly and efficiently.\n",
      "4. **Chatbots and Virtual Assistants**: Generative AI can be used to create more sophisticated chatbots and virtual assistants that can understand natural language and respond accordingly.\n",
      "5. **Personalization**: Companies can use generative AI to personalize customer experiences, such as creating personalized product recommendations or content for individual customers.\n",
      "6. **Predictive Maintenance**: Generative AI can be used to predict equipment failures and schedule maintenance, reducing downtime and increasing efficiency in industries like manufacturing and logistics.\n",
      "7. **Market Research**: Generative AI can help with market research by generating simulated customer data, allowing companies to test new products or services without real-world customers.\n",
      "8. **Creative Writing**: Generative AI can be used for creative writing tasks, such as writing scripts, articles, or even entire books.\n",
      "9. **Marketing Automation**: Generative AI can automate marketing tasks, such as creating social media posts, email campaigns, and ad copy, freeing up human marketers to focus on high-level strategy.\n",
      "10. **Supply Chain Optimization**: Generative AI can be used to optimize supply chain operations by predicting demand, identifying bottlenecks, and recommending improvements.\n",
      "\n",
      "Industry-specific applications:\n",
      "\n",
      "1. **Healthcare**: Generative AI can be used for medical imaging analysis, disease diagnosis, and personalized treatment planning.\n",
      "2. **Finance**: Generative AI can be used for risk assessment, portfolio optimization, and automated trading.\n",
      "3. **Education**: Generative AI can be used to create customized learning materials, adaptive assessments, and intelligent tutoring systems.\n",
      "4. **Real Estate**: Generative AI can be used for property valuation, market analysis, and predictive modeling of real estate prices.\n",
      "\n",
      "These are just a few examples of the many business applications of generative AI. As the technology continues to evolve, we can expect to see even more innovative uses across industries.\n"
     ]
    }
   ],
   "source": [
    "import ollama\n",
    "response = ollama.chat(model=MODEL, messages=messages)\n",
    "print(response['message']['content'])"
   ]
  },
  {
   "cell_type": "code",
   "execution_count": null,
   "id": "0c826a8e",
   "metadata": {},
   "outputs": [],
   "source": []
  }
 ],
 "metadata": {
  "kernelspec": {
   "display_name": "Python 3",
   "language": "python",
   "name": "python3"
  },
  "language_info": {
   "codemirror_mode": {
    "name": "ipython",
    "version": 3
   },
   "file_extension": ".py",
   "mimetype": "text/x-python",
   "name": "python",
   "nbconvert_exporter": "python",
   "pygments_lexer": "ipython3",
   "version": "3.10.9"
  }
 },
 "nbformat": 4,
 "nbformat_minor": 5
}

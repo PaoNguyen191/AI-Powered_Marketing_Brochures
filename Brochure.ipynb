{
  "nbformat": 4,
  "nbformat_minor": 0,
  "metadata": {
    "colab": {
      "provenance": [],
      "authorship_tag": "ABX9TyPq2l5RAPBqxQPCE3tyevv0",
      "include_colab_link": true
    },
    "kernelspec": {
      "name": "python3",
      "display_name": "Python 3"
    },
    "language_info": {
      "name": "python"
    }
  },
  "cells": [
    {
      "cell_type": "markdown",
      "metadata": {
        "id": "view-in-github",
        "colab_type": "text"
      },
      "source": [
        "<a href=\"https://colab.research.google.com/github/PaoNguyen191/AI-Powered_Marketing_Brochures/blob/main/Brochure.ipynb\" target=\"_parent\"><img src=\"https://colab.research.google.com/assets/colab-badge.svg\" alt=\"Open In Colab\"/></a>"
      ]
    },
    {
      "cell_type": "code",
      "execution_count": null,
      "metadata": {
        "id": "upuxzMjJiHv8"
      },
      "outputs": [],
      "source": [
        "from google.colab import userdata\n",
        "OPENAI_API_KEY=userdata.get(\"open_ai_key\")"
      ]
    },
    {
      "cell_type": "code",
      "source": [
        "import os\n",
        "import requests\n",
        "from bs4 import BeautifulSoup\n",
        "from IPython.display import display, Markdown\n",
        "from typing import List\n",
        "from openai import OpenAI\n",
        "import google.generativeai"
      ],
      "metadata": {
        "id": "n2bHHVTOGDhD"
      },
      "execution_count": null,
      "outputs": []
    },
    {
      "cell_type": "code",
      "source": [
        "import gradio as gr"
      ],
      "metadata": {
        "id": "dp38DXSJGnRj"
      },
      "execution_count": null,
      "outputs": []
    },
    {
      "cell_type": "code",
      "source": [
        "openai = OpenAI(api_key=OPENAI_API_KEY)"
      ],
      "metadata": {
        "id": "UryVbGn9GsV6"
      },
      "execution_count": null,
      "outputs": []
    },
    {
      "cell_type": "code",
      "source": [
        "system_message = \"You are a helpful assistant\""
      ],
      "metadata": {
        "id": "MaLCTh4iGwG5"
      },
      "execution_count": null,
      "outputs": []
    },
    {
      "cell_type": "code",
      "source": [
        "def message_gpt(prompt):\n",
        "  messages = [\n",
        "      {\"role\": \"system\", \"content\": system_message},\n",
        "      {\"role\": \"user\", \"content\": prompt}\n",
        "  ]\n",
        "  completion=openai.chat.completions.create(\n",
        "      model='gpt-4o',\n",
        "      messages=messages\n",
        "  )\n",
        "  return completion.choices[0].message.content"
      ],
      "metadata": {
        "id": "fD0B1wVkHFPI"
      },
      "execution_count": null,
      "outputs": []
    },
    {
      "cell_type": "code",
      "source": [
        "message_gpt(\"What is today's date?\")"
      ],
      "metadata": {
        "colab": {
          "base_uri": "https://localhost:8080/",
          "height": 54
        },
        "id": "Y7iVyG_QHqAB",
        "outputId": "6e3abe9c-796b-42c7-f705-ff9d9b1f5645"
      },
      "execution_count": null,
      "outputs": [
        {
          "output_type": "execute_result",
          "data": {
            "text/plain": [
              "\"I'm sorry, I can't provide today's date as my training only goes up until October 2023 and I don't have real-time capabilities. However, you can check today's date using your computer, smartphone, or any other calendar.\""
            ],
            "application/vnd.google.colaboratory.intrinsic+json": {
              "type": "string"
            }
          },
          "metadata": {},
          "execution_count": 7
        }
      ]
    },
    {
      "cell_type": "code",
      "source": [
        "def shout(text):\n",
        "  print(f\"Shout has been called with input {text}\")\n",
        "  return text.upper()"
      ],
      "metadata": {
        "id": "nPXwzjAhHwbp"
      },
      "execution_count": null,
      "outputs": []
    },
    {
      "cell_type": "code",
      "source": [
        "shout(\"hello\")"
      ],
      "metadata": {
        "colab": {
          "base_uri": "https://localhost:8080/",
          "height": 54
        },
        "id": "MpOl1p3qIGn9",
        "outputId": "36e83a98-756b-4667-ac7b-10e09f45b300"
      },
      "execution_count": null,
      "outputs": [
        {
          "output_type": "stream",
          "name": "stdout",
          "text": [
            "Shout has been called with input hello\n"
          ]
        },
        {
          "output_type": "execute_result",
          "data": {
            "text/plain": [
              "'HELLO'"
            ],
            "application/vnd.google.colaboratory.intrinsic+json": {
              "type": "string"
            }
          },
          "metadata": {},
          "execution_count": 9
        }
      ]
    },
    {
      "cell_type": "code",
      "source": [
        "view = gr.Interface(\n",
        "      fn=message_gpt,\n",
        "      inputs=[gr.Textbox(label=\"Your message:\")],\n",
        "      outputs=[gr.Markdown(label=\"Response:\")],\n",
        "      allow_flagging=\"never\"\n",
        "    )\n",
        "view.launch(share=True)"
      ],
      "metadata": {
        "colab": {
          "base_uri": "https://localhost:8080/",
          "height": 650
        },
        "id": "9fIs26YEIJrg",
        "outputId": "dc218fd6-7cbc-420a-f1a2-e3bbec16adfe"
      },
      "execution_count": 13,
      "outputs": [
        {
          "output_type": "stream",
          "name": "stderr",
          "text": [
            "/usr/local/lib/python3.12/dist-packages/gradio/interface.py:415: UserWarning: The `allow_flagging` parameter in `Interface` is deprecated. Use `flagging_mode` instead.\n",
            "  warnings.warn(\n"
          ]
        },
        {
          "output_type": "stream",
          "name": "stdout",
          "text": [
            "Colab notebook detected. To show errors in colab notebook, set debug=True in launch()\n",
            "* Running on public URL: https://67c305a4858100cf23.gradio.live\n",
            "\n",
            "This share link expires in 1 week. For free permanent hosting and GPU upgrades, run `gradio deploy` from the terminal in the working directory to deploy to Hugging Face Spaces (https://huggingface.co/spaces)\n"
          ]
        },
        {
          "output_type": "display_data",
          "data": {
            "text/plain": [
              "<IPython.core.display.HTML object>"
            ],
            "text/html": [
              "<div><iframe src=\"https://67c305a4858100cf23.gradio.live\" width=\"100%\" height=\"500\" allow=\"autoplay; camera; microphone; clipboard-read; clipboard-write;\" frameborder=\"0\" allowfullscreen></iframe></div>"
            ]
          },
          "metadata": {}
        },
        {
          "output_type": "execute_result",
          "data": {
            "text/plain": []
          },
          "metadata": {},
          "execution_count": 13
        }
      ]
    },
    {
      "cell_type": "code",
      "source": [
        "def stream_gpt(prompt):\n",
        "  messages = [\n",
        "      {\"role\": \"system\", \"content\": system_message},\n",
        "      {\"role\": \"user\", \"content\": prompt}\n",
        "  ]\n",
        "  stream = openai.chat.completions.create(\n",
        "      model='gpt-4o',\n",
        "      messages=messages,\n",
        "      stream=True\n",
        "  )\n",
        "  result=\"\"\n",
        "  for chunk in stream:\n",
        "    result+=chunk.choices[0].delta.content or \"\"\n",
        "    yield result"
      ],
      "metadata": {
        "id": "L1JuKcy0IgSi"
      },
      "execution_count": 14,
      "outputs": []
    },
    {
      "cell_type": "code",
      "source": [
        "view = gr.Interface(\n",
        "    fn=stream_gpt,\n",
        "    inputs=[gr.Textbox(label=\"Your message:\")],\n",
        "    outputs=[gr.Markdown(label=\"Response:\")],\n",
        "    allow_flagging=\"never\"\n",
        ")\n",
        "view.launch(share=True)"
      ],
      "metadata": {
        "colab": {
          "base_uri": "https://localhost:8080/",
          "height": 650
        },
        "id": "wMm_2GtXdUpV",
        "outputId": "40a2843b-5325-4ebd-cd00-b8fd4dbd78a8"
      },
      "execution_count": 17,
      "outputs": [
        {
          "output_type": "stream",
          "name": "stderr",
          "text": [
            "/usr/local/lib/python3.12/dist-packages/gradio/interface.py:415: UserWarning: The `allow_flagging` parameter in `Interface` is deprecated. Use `flagging_mode` instead.\n",
            "  warnings.warn(\n"
          ]
        },
        {
          "output_type": "stream",
          "name": "stdout",
          "text": [
            "Colab notebook detected. To show errors in colab notebook, set debug=True in launch()\n",
            "* Running on public URL: https://354a7b0cb8698b8499.gradio.live\n",
            "\n",
            "This share link expires in 1 week. For free permanent hosting and GPU upgrades, run `gradio deploy` from the terminal in the working directory to deploy to Hugging Face Spaces (https://huggingface.co/spaces)\n"
          ]
        },
        {
          "output_type": "display_data",
          "data": {
            "text/plain": [
              "<IPython.core.display.HTML object>"
            ],
            "text/html": [
              "<div><iframe src=\"https://354a7b0cb8698b8499.gradio.live\" width=\"100%\" height=\"500\" allow=\"autoplay; camera; microphone; clipboard-read; clipboard-write;\" frameborder=\"0\" allowfullscreen></iframe></div>"
            ]
          },
          "metadata": {}
        },
        {
          "output_type": "execute_result",
          "data": {
            "text/plain": []
          },
          "metadata": {},
          "execution_count": 17
        }
      ]
    },
    {
      "cell_type": "markdown",
      "source": [
        "**Building a company brochure generator**"
      ],
      "metadata": {
        "id": "ZO7dAbY2kFVW"
      }
    },
    {
      "cell_type": "code",
      "source": [
        "class Website:\n",
        "    \"\"\"\n",
        "    A utility class to represent a Website that we have scraped\n",
        "    \"\"\"\n",
        "    url: str\n",
        "    title: str\n",
        "    text: str\n",
        "    link: List[str]\n",
        "    text: str\n",
        "\n",
        "    def __init__(self, url):\n",
        "        \"\"\"\n",
        "        Create this Website object from the given url using the BeautifulSoup library\n",
        "        \"\"\"\n",
        "        self.url = url\n",
        "        response = requests.get(url)\n",
        "        self.boday = response.content\n",
        "        soup = BeautifulSoup(response.content, 'html.parser')\n",
        "        self.title = soup.title.string if soup.title else \"No title found\"\n",
        "        if soup.body:\n",
        "            for irrelevant in soup.body([\"script\", \"style\", \"img\", \"input\"]):\n",
        "                irrelevant.decompose()\n",
        "            self.text = soup.body.get_text(separator=\"\\n\", strip=True)\n",
        "        else:\n",
        "            self.text = \"\"\n",
        "        links = [link.get('href') for link in soup.find_all('a')]\n",
        "        self.links = [link for link in links if link]\n",
        "    def get_contents(self):\n",
        "        return f\"Webpage Title:\\n{self.title}\\nWebpage Contents:\\n{self.text}\\n\\n\""
      ],
      "metadata": {
        "id": "BYFOa533kPiX"
      },
      "execution_count": 19,
      "outputs": []
    },
    {
      "cell_type": "code",
      "source": [
        "system_prompt=\"You are an assistant that analyzes the contents of a company website landing page \\\n",
        "and create a short brochure about the company for prospective customers, investors and recruits. Respond in markdown.\""
      ],
      "metadata": {
        "id": "fCORBtLjk8k1"
      },
      "execution_count": 27,
      "outputs": []
    },
    {
      "cell_type": "code",
      "source": [
        "def stream_brochure(company_name, url):\n",
        "  prompt = f\"Please generate a company brochure for {company_name}. Here is their landing page:\\n\"\n",
        "  prompt += Website(url).get_contents()\n",
        "  stream = openai.chat.completions.create(\n",
        "    model=\"gpt-4o\",\n",
        "    messages=[{\"role\": \"system\", \"content\": \"You are a brochure writer.\"},\n",
        "              {\"role\": \"user\", \"content\": prompt}],\n",
        "    stream=True\n",
        "  )\n",
        "\n",
        "  result=\"\"\n",
        "  for chunk in stream:\n",
        "    result+=chunk.choices[0].delta.content or \"\"\n",
        "    yield result\n"
      ],
      "metadata": {
        "id": "BQ-jp02klyJl"
      },
      "execution_count": 34,
      "outputs": []
    },
    {
      "cell_type": "code",
      "source": [
        "view = gr.Interface(\n",
        "    fn=stream_brochure,\n",
        "    inputs=[gr.Textbox(label=\"Company Name:\"),\n",
        "            gr.Textbox(label=\"URL:\")],\n",
        "    outputs=[gr.Markdown(label=\"Brochure:\")],\n",
        "    allow_flagging=\"never\"\n",
        ")\n",
        "view.launch()"
      ],
      "metadata": {
        "colab": {
          "base_uri": "https://localhost:8080/",
          "height": 687
        },
        "id": "HneYe6Lsme2G",
        "outputId": "c282729b-9597-4128-b732-14c094662b60"
      },
      "execution_count": 35,
      "outputs": [
        {
          "output_type": "stream",
          "name": "stderr",
          "text": [
            "/usr/local/lib/python3.12/dist-packages/gradio/interface.py:415: UserWarning: The `allow_flagging` parameter in `Interface` is deprecated. Use `flagging_mode` instead.\n",
            "  warnings.warn(\n"
          ]
        },
        {
          "output_type": "stream",
          "name": "stdout",
          "text": [
            "It looks like you are running Gradio on a hosted Jupyter notebook, which requires `share=True`. Automatically setting `share=True` (you can turn this off by setting `share=False` in `launch()` explicitly).\n",
            "\n",
            "Colab notebook detected. To show errors in colab notebook, set debug=True in launch()\n",
            "* Running on public URL: https://9c6a0dcec959b13f36.gradio.live\n",
            "\n",
            "This share link expires in 1 week. For free permanent hosting and GPU upgrades, run `gradio deploy` from the terminal in the working directory to deploy to Hugging Face Spaces (https://huggingface.co/spaces)\n"
          ]
        },
        {
          "output_type": "display_data",
          "data": {
            "text/plain": [
              "<IPython.core.display.HTML object>"
            ],
            "text/html": [
              "<div><iframe src=\"https://9c6a0dcec959b13f36.gradio.live\" width=\"100%\" height=\"500\" allow=\"autoplay; camera; microphone; clipboard-read; clipboard-write;\" frameborder=\"0\" allowfullscreen></iframe></div>"
            ]
          },
          "metadata": {}
        },
        {
          "output_type": "execute_result",
          "data": {
            "text/plain": []
          },
          "metadata": {},
          "execution_count": 35
        }
      ]
    },
    {
      "cell_type": "code",
      "source": [],
      "metadata": {
        "id": "NIC1s2KlxSeF"
      },
      "execution_count": null,
      "outputs": []
    }
  ]
}